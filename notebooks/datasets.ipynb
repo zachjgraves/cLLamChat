{
 "cells": [
  {
   "cell_type": "code",
   "execution_count": 1,
   "metadata": {},
   "outputs": [
    {
     "name": "stderr",
     "output_type": "stream",
     "text": [
      "/Users/jbryaniv/Desktop/Projects/cLLamChat/.env/lib/python3.9/site-packages/tqdm/auto.py:21: TqdmWarning: IProgress not found. Please update jupyter and ipywidgets. See https://ipywidgets.readthedocs.io/en/stable/user_install.html\n",
      "  from .autonotebook import tqdm as notebook_tqdm\n",
      "Downloading readme: 100%|██████████| 10.4k/10.4k [00:00<00:00, 18.7MB/s]\n",
      "Downloading data: 100%|██████████| 217M/217M [04:12<00:00, 859kB/s]  \n",
      "Downloading data: 100%|██████████| 203M/203M [04:01<00:00, 840kB/s]  \n",
      "Downloading data: 100%|██████████| 192M/192M [04:03<00:00, 790kB/s]  \n",
      "Downloading data:  15%|█▌        | 31.5M/206M [00:43<03:56, 738kB/s]"
     ]
    }
   ],
   "source": [
    "# Import libraries\n",
    "from datasets import load_dataset\n",
    "\n",
    "ds1 = load_dataset(\"yahma/alpaca-cleaned\")\n",
    "ds2 = load_dataset(\"allenai/WildChat-1M\")"
   ]
  },
  {
   "cell_type": "code",
   "execution_count": null,
   "metadata": {},
   "outputs": [],
   "source": [
    "ds"
   ]
  },
  {
   "cell_type": "code",
   "execution_count": null,
   "metadata": {},
   "outputs": [],
   "source": []
  }
 ],
 "metadata": {
  "kernelspec": {
   "display_name": ".env",
   "language": "python",
   "name": "python3"
  },
  "language_info": {
   "codemirror_mode": {
    "name": "ipython",
    "version": 3
   },
   "file_extension": ".py",
   "mimetype": "text/x-python",
   "name": "python",
   "nbconvert_exporter": "python",
   "pygments_lexer": "ipython3",
   "version": "3.9.13"
  }
 },
 "nbformat": 4,
 "nbformat_minor": 2
}
